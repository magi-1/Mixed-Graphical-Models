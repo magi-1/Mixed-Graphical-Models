{
 "cells": [
  {
   "cell_type": "code",
   "execution_count": 150,
   "metadata": {
    "ExecuteTime": {
     "end_time": "2020-12-02T04:37:07.780922Z",
     "start_time": "2020-12-02T04:37:07.777930Z"
    }
   },
   "outputs": [],
   "source": [
    "import os\n",
    "import numpy as np\n",
    "import pandas as pd\n",
    "import matplotlib.pyplot as plt"
   ]
  },
  {
   "cell_type": "markdown",
   "metadata": {},
   "source": [
    "# Transformations"
   ]
  },
  {
   "cell_type": "code",
   "execution_count": 151,
   "metadata": {
    "ExecuteTime": {
     "end_time": "2020-12-02T04:37:08.348871Z",
     "start_time": "2020-12-02T04:37:08.260082Z"
    }
   },
   "outputs": [
    {
     "data": {
      "text/html": [
       "<div>\n",
       "<style scoped>\n",
       "    .dataframe tbody tr th:only-of-type {\n",
       "        vertical-align: middle;\n",
       "    }\n",
       "\n",
       "    .dataframe tbody tr th {\n",
       "        vertical-align: top;\n",
       "    }\n",
       "\n",
       "    .dataframe thead th {\n",
       "        text-align: right;\n",
       "    }\n",
       "</style>\n",
       "<table border=\"1\" class=\"dataframe\">\n",
       "  <thead>\n",
       "    <tr style=\"text-align: right;\">\n",
       "      <th></th>\n",
       "      <th>avg_dep</th>\n",
       "      <th>airport</th>\n",
       "      <th>num_obs</th>\n",
       "      <th>datetime</th>\n",
       "      <th>avg_weather</th>\n",
       "    </tr>\n",
       "  </thead>\n",
       "  <tbody>\n",
       "    <tr>\n",
       "      <th>0</th>\n",
       "      <td>7.500000</td>\n",
       "      <td>ABE</td>\n",
       "      <td>2.0</td>\n",
       "      <td>2018-01-01</td>\n",
       "      <td>Precipitation UNK</td>\n",
       "    </tr>\n",
       "    <tr>\n",
       "      <th>1</th>\n",
       "      <td>17.500000</td>\n",
       "      <td>ABE</td>\n",
       "      <td>2.0</td>\n",
       "      <td>2018-01-02</td>\n",
       "      <td>Clear</td>\n",
       "    </tr>\n",
       "    <tr>\n",
       "      <th>2</th>\n",
       "      <td>6.333333</td>\n",
       "      <td>ABE</td>\n",
       "      <td>3.0</td>\n",
       "      <td>2018-01-03</td>\n",
       "      <td>Cold Severe</td>\n",
       "    </tr>\n",
       "    <tr>\n",
       "      <th>3</th>\n",
       "      <td>109.500000</td>\n",
       "      <td>ABE</td>\n",
       "      <td>2.0</td>\n",
       "      <td>2018-01-04</td>\n",
       "      <td>Snow Light</td>\n",
       "    </tr>\n",
       "    <tr>\n",
       "      <th>4</th>\n",
       "      <td>60.500000</td>\n",
       "      <td>ABE</td>\n",
       "      <td>2.0</td>\n",
       "      <td>2018-01-05</td>\n",
       "      <td>Clear</td>\n",
       "    </tr>\n",
       "  </tbody>\n",
       "</table>\n",
       "</div>"
      ],
      "text/plain": [
       "      avg_dep airport  num_obs   datetime        avg_weather\n",
       "0    7.500000     ABE      2.0 2018-01-01  Precipitation UNK\n",
       "1   17.500000     ABE      2.0 2018-01-02              Clear\n",
       "2    6.333333     ABE      3.0 2018-01-03        Cold Severe\n",
       "3  109.500000     ABE      2.0 2018-01-04         Snow Light\n",
       "4   60.500000     ABE      2.0 2018-01-05              Clear"
      ]
     },
     "execution_count": 151,
     "metadata": {},
     "output_type": "execute_result"
    }
   ],
   "source": [
    "data = pd.read_csv(os.getcwd() + '/mixed_delays.csv')\n",
    "data.loc[:,'datetime'] = pd.to_datetime(data['datetime'])\n",
    "data.head()"
   ]
  },
  {
   "cell_type": "code",
   "execution_count": 152,
   "metadata": {
    "ExecuteTime": {
     "end_time": "2020-12-02T04:37:09.605008Z",
     "start_time": "2020-12-02T04:37:09.598003Z"
    }
   },
   "outputs": [
    {
     "data": {
      "text/plain": [
       "array(['Precipitation UNK', 'Clear', 'Cold Severe', 'Snow Light',\n",
       "       'Fog Severe', 'Rain Light', 'Fog Moderate', 'Snow Moderate',\n",
       "       'Storm Severe', 'Rain Moderate', 'Snow Heavy', 'Rain Heavy',\n",
       "       'Hail Other'], dtype=object)"
      ]
     },
     "execution_count": 152,
     "metadata": {},
     "output_type": "execute_result"
    }
   ],
   "source": [
    "# categorical variables\n",
    "data['avg_weather'].unique()"
   ]
  },
  {
   "cell_type": "code",
   "execution_count": 153,
   "metadata": {
    "ExecuteTime": {
     "end_time": "2020-12-02T04:37:10.106334Z",
     "start_time": "2020-12-02T04:37:09.978649Z"
    }
   },
   "outputs": [],
   "source": [
    "data['trans_dep'] = data.groupby(['airport'])['avg_dep'].transform(lambda x: np.log(x-x.min()+1))\n",
    "data.loc[:,'trans_dep'] = data.groupby(['airport'])['trans_dep'].transform(lambda x: x-x.mean())"
   ]
  },
  {
   "cell_type": "code",
   "execution_count": 154,
   "metadata": {
    "ExecuteTime": {
     "end_time": "2020-12-02T04:37:10.446713Z",
     "start_time": "2020-12-02T04:37:10.434745Z"
    }
   },
   "outputs": [
    {
     "data": {
      "text/plain": [
       "airport\n",
       "ATL    588985.0\n",
       "ORD    486146.0\n",
       "DFW    414361.0\n",
       "DEN    351697.0\n",
       "LAX    329193.0\n",
       "Name: num_obs, dtype: float64"
      ]
     },
     "execution_count": 154,
     "metadata": {},
     "output_type": "execute_result"
    }
   ],
   "source": [
    "top_airports = data.groupby('airport').sum()['num_obs'].sort_values(ascending = False)\n",
    "top_airports.head()"
   ]
  },
  {
   "cell_type": "code",
   "execution_count": 155,
   "metadata": {
    "ExecuteTime": {
     "end_time": "2020-12-02T04:37:11.215011Z",
     "start_time": "2020-12-02T04:37:10.888847Z"
    }
   },
   "outputs": [
    {
     "data": {
      "image/png": "[encoded data removed]",
      "text/plain": [
       "<Figure size 1080x288 with 3 Axes>"
      ]
     },
     "metadata": {
      "needs_background": "light"
     },
     "output_type": "display_data"
    }
   ],
   "source": [
    "# continuous variables\n",
    "\n",
    "fig, ax = plt.subplots(1,3, figsize = (15,4))\n",
    "for i in range(3):\n",
    "    ap = top_airports.index[i]\n",
    "    values = data.query('airport == @ap')['trans_dep']\n",
    "    ax[i].hist(values, color = 'k')\n",
    "    ax[i].set_title(f'Airport: {ap}')"
   ]
  },
  {
   "cell_type": "markdown",
   "metadata": {},
   "source": [
    "# Subsetting and Modelling "
   ]
  },
  {
   "cell_type": "code",
   "execution_count": 156,
   "metadata": {
    "ExecuteTime": {
     "end_time": "2020-12-02T04:37:14.356853Z",
     "start_time": "2020-12-02T04:37:14.340905Z"
    }
   },
   "outputs": [
    {
     "name": "stdout",
     "output_type": "stream",
     "text": [
      "Index(['ATL', 'ORD', 'DFW', 'DEN', 'LAX', 'CLT', 'PHX', 'IAH', 'SFO', 'LAS'], dtype='object', name='airport')\n"
     ]
    },
    {
     "data": {
      "text/html": [
       "<div>\n",
       "<style scoped>\n",
       "    .dataframe tbody tr th:only-of-type {\n",
       "        vertical-align: middle;\n",
       "    }\n",
       "\n",
       "    .dataframe tbody tr th {\n",
       "        vertical-align: top;\n",
       "    }\n",
       "\n",
       "    .dataframe thead th {\n",
       "        text-align: right;\n",
       "    }\n",
       "</style>\n",
       "<table border=\"1\" class=\"dataframe\">\n",
       "  <thead>\n",
       "    <tr style=\"text-align: right;\">\n",
       "      <th></th>\n",
       "      <th>avg_dep</th>\n",
       "      <th>airport</th>\n",
       "      <th>num_obs</th>\n",
       "      <th>datetime</th>\n",
       "      <th>avg_weather</th>\n",
       "      <th>trans_dep</th>\n",
       "    </tr>\n",
       "  </thead>\n",
       "  <tbody>\n",
       "    <tr>\n",
       "      <th>3794</th>\n",
       "      <td>25.790689</td>\n",
       "      <td>ATL</td>\n",
       "      <td>817.0</td>\n",
       "      <td>2018-01-01</td>\n",
       "      <td>Snow Light</td>\n",
       "      <td>0.839016</td>\n",
       "    </tr>\n",
       "    <tr>\n",
       "      <th>55462</th>\n",
       "      <td>34.098664</td>\n",
       "      <td>ORD</td>\n",
       "      <td>800.0</td>\n",
       "      <td>2018-01-01</td>\n",
       "      <td>Clear</td>\n",
       "      <td>1.003409</td>\n",
       "    </tr>\n",
       "    <tr>\n",
       "      <th>40810</th>\n",
       "      <td>18.209959</td>\n",
       "      <td>LAX</td>\n",
       "      <td>567.0</td>\n",
       "      <td>2018-01-01</td>\n",
       "      <td>Fog Moderate</td>\n",
       "      <td>0.691267</td>\n",
       "    </tr>\n",
       "    <tr>\n",
       "      <th>40264</th>\n",
       "      <td>9.021925</td>\n",
       "      <td>LAS</td>\n",
       "      <td>400.0</td>\n",
       "      <td>2018-01-01</td>\n",
       "      <td>Clear</td>\n",
       "      <td>0.103570</td>\n",
       "    </tr>\n",
       "    <tr>\n",
       "      <th>33729</th>\n",
       "      <td>12.666609</td>\n",
       "      <td>IAH</td>\n",
       "      <td>437.0</td>\n",
       "      <td>2018-01-01</td>\n",
       "      <td>Clear</td>\n",
       "      <td>0.360495</td>\n",
       "    </tr>\n",
       "  </tbody>\n",
       "</table>\n",
       "</div>"
      ],
      "text/plain": [
       "         avg_dep airport  num_obs   datetime   avg_weather  trans_dep\n",
       "3794   25.790689     ATL    817.0 2018-01-01    Snow Light   0.839016\n",
       "55462  34.098664     ORD    800.0 2018-01-01         Clear   1.003409\n",
       "40810  18.209959     LAX    567.0 2018-01-01  Fog Moderate   0.691267\n",
       "40264   9.021925     LAS    400.0 2018-01-01         Clear   0.103570\n",
       "33729  12.666609     IAH    437.0 2018-01-01         Clear   0.360495"
      ]
     },
     "execution_count": 156,
     "metadata": {},
     "output_type": "execute_result"
    }
   ],
   "source": [
    "top_10 = top_airports.index[:10]\n",
    "df = data.query('airport in @top_10').sort_values(by = ['datetime'])\n",
    "print(top_10)\n",
    "df.head()"
   ]
  },
  {
   "cell_type": "code",
   "execution_count": 195,
   "metadata": {
    "ExecuteTime": {
     "end_time": "2020-12-02T04:50:07.409345Z",
     "start_time": "2020-12-02T04:50:07.402351Z"
    }
   },
   "outputs": [],
   "source": [
    "cols = ['airport', 'trans_dep', 'avg_weather']\n",
    "train = pd.get_dummies(df[cols], columns = ['avg_weather'])"
   ]
  },
  {
   "cell_type": "code",
   "execution_count": 197,
   "metadata": {
    "ExecuteTime": {
     "end_time": "2020-12-02T04:56:16.139258Z",
     "start_time": "2020-12-02T04:56:16.128307Z"
    }
   },
   "outputs": [
    {
     "data": {
      "text/html": [
       "<div>\n",
       "<style scoped>\n",
       "    .dataframe tbody tr th:only-of-type {\n",
       "        vertical-align: middle;\n",
       "    }\n",
       "\n",
       "    .dataframe tbody tr th {\n",
       "        vertical-align: top;\n",
       "    }\n",
       "\n",
       "    .dataframe thead th {\n",
       "        text-align: right;\n",
       "    }\n",
       "</style>\n",
       "<table border=\"1\" class=\"dataframe\">\n",
       "  <thead>\n",
       "    <tr style=\"text-align: right;\">\n",
       "      <th></th>\n",
       "      <th>airport</th>\n",
       "      <th>trans_dep</th>\n",
       "      <th>avg_weather_Clear</th>\n",
       "      <th>avg_weather_Cold Severe</th>\n",
       "      <th>avg_weather_Fog Moderate</th>\n",
       "      <th>avg_weather_Fog Severe</th>\n",
       "      <th>avg_weather_Hail Other</th>\n",
       "      <th>avg_weather_Precipitation UNK</th>\n",
       "      <th>avg_weather_Rain Heavy</th>\n",
       "      <th>avg_weather_Rain Light</th>\n",
       "      <th>avg_weather_Rain Moderate</th>\n",
       "      <th>avg_weather_Snow Heavy</th>\n",
       "      <th>avg_weather_Snow Light</th>\n",
       "      <th>avg_weather_Snow Moderate</th>\n",
       "      <th>avg_weather_Storm Severe</th>\n",
       "    </tr>\n",
       "  </thead>\n",
       "  <tbody>\n",
       "    <tr>\n",
       "      <th>3794</th>\n",
       "      <td>ATL</td>\n",
       "      <td>0.839016</td>\n",
       "      <td>0</td>\n",
       "      <td>0</td>\n",
       "      <td>0</td>\n",
       "      <td>0</td>\n",
       "      <td>0</td>\n",
       "      <td>0</td>\n",
       "      <td>0</td>\n",
       "      <td>0</td>\n",
       "      <td>0</td>\n",
       "      <td>0</td>\n",
       "      <td>1</td>\n",
       "      <td>0</td>\n",
       "      <td>0</td>\n",
       "    </tr>\n",
       "    <tr>\n",
       "      <th>55462</th>\n",
       "      <td>ORD</td>\n",
       "      <td>1.003409</td>\n",
       "      <td>1</td>\n",
       "      <td>0</td>\n",
       "      <td>0</td>\n",
       "      <td>0</td>\n",
       "      <td>0</td>\n",
       "      <td>0</td>\n",
       "      <td>0</td>\n",
       "      <td>0</td>\n",
       "      <td>0</td>\n",
       "      <td>0</td>\n",
       "      <td>0</td>\n",
       "      <td>0</td>\n",
       "      <td>0</td>\n",
       "    </tr>\n",
       "    <tr>\n",
       "      <th>40810</th>\n",
       "      <td>LAX</td>\n",
       "      <td>0.691267</td>\n",
       "      <td>0</td>\n",
       "      <td>0</td>\n",
       "      <td>1</td>\n",
       "      <td>0</td>\n",
       "      <td>0</td>\n",
       "      <td>0</td>\n",
       "      <td>0</td>\n",
       "      <td>0</td>\n",
       "      <td>0</td>\n",
       "      <td>0</td>\n",
       "      <td>0</td>\n",
       "      <td>0</td>\n",
       "      <td>0</td>\n",
       "    </tr>\n",
       "    <tr>\n",
       "      <th>40264</th>\n",
       "      <td>LAS</td>\n",
       "      <td>0.103570</td>\n",
       "      <td>1</td>\n",
       "      <td>0</td>\n",
       "      <td>0</td>\n",
       "      <td>0</td>\n",
       "      <td>0</td>\n",
       "      <td>0</td>\n",
       "      <td>0</td>\n",
       "      <td>0</td>\n",
       "      <td>0</td>\n",
       "      <td>0</td>\n",
       "      <td>0</td>\n",
       "      <td>0</td>\n",
       "      <td>0</td>\n",
       "    </tr>\n",
       "    <tr>\n",
       "      <th>33729</th>\n",
       "      <td>IAH</td>\n",
       "      <td>0.360495</td>\n",
       "      <td>1</td>\n",
       "      <td>0</td>\n",
       "      <td>0</td>\n",
       "      <td>0</td>\n",
       "      <td>0</td>\n",
       "      <td>0</td>\n",
       "      <td>0</td>\n",
       "      <td>0</td>\n",
       "      <td>0</td>\n",
       "      <td>0</td>\n",
       "      <td>0</td>\n",
       "      <td>0</td>\n",
       "      <td>0</td>\n",
       "    </tr>\n",
       "  </tbody>\n",
       "</table>\n",
       "</div>"
      ],
      "text/plain": [
       "      airport  trans_dep  avg_weather_Clear  avg_weather_Cold Severe  \\\n",
       "3794      ATL   0.839016                  0                        0   \n",
       "55462     ORD   1.003409                  1                        0   \n",
       "40810     LAX   0.691267                  0                        0   \n",
       "40264     LAS   0.103570                  1                        0   \n",
       "33729     IAH   0.360495                  1                        0   \n",
       "\n",
       "       avg_weather_Fog Moderate  avg_weather_Fog Severe  \\\n",
       "3794                          0                       0   \n",
       "55462                         0                       0   \n",
       "40810                         1                       0   \n",
       "40264                         0                       0   \n",
       "33729                         0                       0   \n",
       "\n",
       "       avg_weather_Hail Other  avg_weather_Precipitation UNK  \\\n",
       "3794                        0                              0   \n",
       "55462                       0                              0   \n",
       "40810                       0                              0   \n",
       "40264                       0                              0   \n",
       "33729                       0                              0   \n",
       "\n",
       "       avg_weather_Rain Heavy  avg_weather_Rain Light  \\\n",
       "3794                        0                       0   \n",
       "55462                       0                       0   \n",
       "40810                       0                       0   \n",
       "40264                       0                       0   \n",
       "33729                       0                       0   \n",
       "\n",
       "       avg_weather_Rain Moderate  avg_weather_Snow Heavy  \\\n",
       "3794                           0                       0   \n",
       "55462                          0                       0   \n",
       "40810                          0                       0   \n",
       "40264                          0                       0   \n",
       "33729                          0                       0   \n",
       "\n",
       "       avg_weather_Snow Light  avg_weather_Snow Moderate  \\\n",
       "3794                        1                          0   \n",
       "55462                       0                          0   \n",
       "40810                       0                          0   \n",
       "40264                       0                          0   \n",
       "33729                       0                          0   \n",
       "\n",
       "       avg_weather_Storm Severe  \n",
       "3794                          0  \n",
       "55462                         0  \n",
       "40810                         0  \n",
       "40264                         0  \n",
       "33729                         0  "
      ]
     },
     "execution_count": 197,
     "metadata": {},
     "output_type": "execute_result"
    }
   ],
   "source": [
    "train.head()"
   ]
  },
  {
   "cell_type": "markdown",
   "metadata": {},
   "source": [
    "### To Do\n",
    "\n",
    "Now I need to construct functions to set up the pairwise interactions contained in the nodewise conditional density functions. Once that is done, all that is left is to either write my own numerical optimization scheme (Proximal-Newton) or naively use cvxpy and see how quickly that converges."
   ]
  }
 ],
 "metadata": {
  "kernelspec": {
   "display_name": "Python 3",
   "language": "python",
   "name": "python3"
  },
  "language_info": {
   "codemirror_mode": {
    "name": "ipython",
    "version": 3
   },
   "file_extension": ".py",
   "mimetype": "text/x-python",
   "name": "python",
   "nbconvert_exporter": "python",
   "pygments_lexer": "ipython3",
   "version": "3.7.3"
  }
 },
 "nbformat": 4,
 "nbformat_minor": 2
}
