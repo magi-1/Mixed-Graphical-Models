{
 "cells": [
  {
   "cell_type": "code",
   "execution_count": 315,
   "metadata": {
    "ExecuteTime": {
     "end_time": "2020-12-02T04:35:26.254781Z",
     "start_time": "2020-12-02T04:35:26.251790Z"
    }
   },
   "outputs": [],
   "source": [
    "import os\n",
    "import numpy as np\n",
    "import pandas as pd\n",
    "import matplotlib.pyplot as plt"
   ]
  },
  {
   "cell_type": "markdown",
   "metadata": {},
   "source": [
    "# Data Processing"
   ]
  },
  {
   "cell_type": "code",
   "execution_count": 316,
   "metadata": {
    "ExecuteTime": {
     "end_time": "2020-12-02T04:35:26.776000Z",
     "start_time": "2020-12-02T04:35:26.772011Z"
    }
   },
   "outputs": [
    {
     "data": {
      "text/plain": [
       "['.ipynb_checkpoints',\n",
       " '1_cleansing.ipynb',\n",
       " '2_Modelling.ipynb',\n",
       " 'archive.zip',\n",
       " 'flightdata.csv',\n",
       " 'mixed_delays.csv',\n",
       " 'mixed_flight_data.csv',\n",
       " 'TransformedDelays.csv',\n",
       " 'WeatherEvents.csv']"
      ]
     },
     "execution_count": 316,
     "metadata": {},
     "output_type": "execute_result"
    }
   ],
   "source": [
    "path = os.getcwd()\n",
    "os.listdir()"
   ]
  },
  {
   "cell_type": "markdown",
   "metadata": {},
   "source": [
    "[Kaggle: Weather Data](https://www.kaggle.com/sobhanmoosavi/us-weather-events)"
   ]
  },
  {
   "cell_type": "code",
   "execution_count": 317,
   "metadata": {
    "ExecuteTime": {
     "end_time": "2020-12-02T04:35:35.980745Z",
     "start_time": "2020-12-02T04:35:27.066552Z"
    }
   },
   "outputs": [
    {
     "data": {
      "text/html": [
       "<div>\n",
       "<style scoped>\n",
       "    .dataframe tbody tr th:only-of-type {\n",
       "        vertical-align: middle;\n",
       "    }\n",
       "\n",
       "    .dataframe tbody tr th {\n",
       "        vertical-align: top;\n",
       "    }\n",
       "\n",
       "    .dataframe thead th {\n",
       "        text-align: right;\n",
       "    }\n",
       "</style>\n",
       "<table border=\"1\" class=\"dataframe\">\n",
       "  <thead>\n",
       "    <tr style=\"text-align: right;\">\n",
       "      <th></th>\n",
       "      <th>airport</th>\n",
       "      <th>avg_arr</th>\n",
       "      <th>avg_dep</th>\n",
       "      <th>carrier</th>\n",
       "      <th>datetime</th>\n",
       "      <th>lat</th>\n",
       "      <th>lon</th>\n",
       "      <th>med_arr</th>\n",
       "      <th>med_dep</th>\n",
       "      <th>num_obs</th>\n",
       "    </tr>\n",
       "  </thead>\n",
       "  <tbody>\n",
       "    <tr>\n",
       "      <th>0</th>\n",
       "      <td>MDW</td>\n",
       "      <td>22.934498</td>\n",
       "      <td>34.672489</td>\n",
       "      <td>WN</td>\n",
       "      <td>2018-01-01</td>\n",
       "      <td>41.785833</td>\n",
       "      <td>-87.752500</td>\n",
       "      <td>14.0</td>\n",
       "      <td>28.0</td>\n",
       "      <td>229</td>\n",
       "    </tr>\n",
       "    <tr>\n",
       "      <th>1</th>\n",
       "      <td>LAS</td>\n",
       "      <td>9.213930</td>\n",
       "      <td>18.029851</td>\n",
       "      <td>WN</td>\n",
       "      <td>2018-01-01</td>\n",
       "      <td>36.080000</td>\n",
       "      <td>-115.152222</td>\n",
       "      <td>4.0</td>\n",
       "      <td>9.0</td>\n",
       "      <td>201</td>\n",
       "    </tr>\n",
       "    <tr>\n",
       "      <th>2</th>\n",
       "      <td>BWI</td>\n",
       "      <td>13.202830</td>\n",
       "      <td>18.396226</td>\n",
       "      <td>WN</td>\n",
       "      <td>2018-01-01</td>\n",
       "      <td>39.175833</td>\n",
       "      <td>-76.668889</td>\n",
       "      <td>7.5</td>\n",
       "      <td>11.0</td>\n",
       "      <td>212</td>\n",
       "    </tr>\n",
       "    <tr>\n",
       "      <th>3</th>\n",
       "      <td>DEN</td>\n",
       "      <td>11.213542</td>\n",
       "      <td>21.291667</td>\n",
       "      <td>WN</td>\n",
       "      <td>2018-01-01</td>\n",
       "      <td>39.861667</td>\n",
       "      <td>-104.673056</td>\n",
       "      <td>1.0</td>\n",
       "      <td>8.0</td>\n",
       "      <td>192</td>\n",
       "    </tr>\n",
       "    <tr>\n",
       "      <th>4</th>\n",
       "      <td>DAL</td>\n",
       "      <td>19.432584</td>\n",
       "      <td>26.544944</td>\n",
       "      <td>WN</td>\n",
       "      <td>2018-01-01</td>\n",
       "      <td>32.845833</td>\n",
       "      <td>-96.850833</td>\n",
       "      <td>7.0</td>\n",
       "      <td>15.5</td>\n",
       "      <td>178</td>\n",
       "    </tr>\n",
       "  </tbody>\n",
       "</table>\n",
       "</div>"
      ],
      "text/plain": [
       "  airport    avg_arr    avg_dep carrier    datetime        lat         lon  \\\n",
       "0     MDW  22.934498  34.672489      WN  2018-01-01  41.785833  -87.752500   \n",
       "1     LAS   9.213930  18.029851      WN  2018-01-01  36.080000 -115.152222   \n",
       "2     BWI  13.202830  18.396226      WN  2018-01-01  39.175833  -76.668889   \n",
       "3     DEN  11.213542  21.291667      WN  2018-01-01  39.861667 -104.673056   \n",
       "4     DAL  19.432584  26.544944      WN  2018-01-01  32.845833  -96.850833   \n",
       "\n",
       "   med_arr  med_dep  num_obs  \n",
       "0     14.0     28.0      229  \n",
       "1      4.0      9.0      201  \n",
       "2      7.5     11.0      212  \n",
       "3      1.0      8.0      192  \n",
       "4      7.0     15.5      178  "
      ]
     },
     "execution_count": 317,
     "metadata": {},
     "output_type": "execute_result"
    }
   ],
   "source": [
    "weather = pd.read_csv(path + '/WeatherEvents.csv')\n",
    "delays = pd.read_csv(path + '/flightdata.csv')\n",
    "delays.head()"
   ]
  },
  {
   "cell_type": "code",
   "execution_count": 318,
   "metadata": {
    "ExecuteTime": {
     "end_time": "2020-12-02T04:35:36.035602Z",
     "start_time": "2020-12-02T04:35:35.981719Z"
    }
   },
   "outputs": [],
   "source": [
    "delays = delays.groupby(['airport','datetime']).agg({'avg_dep': 'mean', 'num_obs': 'sum'}).reset_index()"
   ]
  },
  {
   "cell_type": "code",
   "execution_count": 319,
   "metadata": {
    "ExecuteTime": {
     "end_time": "2020-12-02T04:35:36.046573Z",
     "start_time": "2020-12-02T04:35:36.036573Z"
    }
   },
   "outputs": [
    {
     "data": {
      "text/html": [
       "<div>\n",
       "<style scoped>\n",
       "    .dataframe tbody tr th:only-of-type {\n",
       "        vertical-align: middle;\n",
       "    }\n",
       "\n",
       "    .dataframe tbody tr th {\n",
       "        vertical-align: top;\n",
       "    }\n",
       "\n",
       "    .dataframe thead th {\n",
       "        text-align: right;\n",
       "    }\n",
       "</style>\n",
       "<table border=\"1\" class=\"dataframe\">\n",
       "  <thead>\n",
       "    <tr style=\"text-align: right;\">\n",
       "      <th></th>\n",
       "      <th>EventId</th>\n",
       "      <th>Type</th>\n",
       "      <th>Severity</th>\n",
       "      <th>StartTime(UTC)</th>\n",
       "      <th>EndTime(UTC)</th>\n",
       "      <th>TimeZone</th>\n",
       "      <th>AirportCode</th>\n",
       "      <th>LocationLat</th>\n",
       "      <th>LocationLng</th>\n",
       "      <th>City</th>\n",
       "      <th>County</th>\n",
       "      <th>State</th>\n",
       "      <th>ZipCode</th>\n",
       "    </tr>\n",
       "  </thead>\n",
       "  <tbody>\n",
       "    <tr>\n",
       "      <th>0</th>\n",
       "      <td>W-1</td>\n",
       "      <td>Snow</td>\n",
       "      <td>Light</td>\n",
       "      <td>2016-01-06 23:14:00</td>\n",
       "      <td>2016-01-07 00:34:00</td>\n",
       "      <td>US/Mountain</td>\n",
       "      <td>K04V</td>\n",
       "      <td>38.0972</td>\n",
       "      <td>-106.1689</td>\n",
       "      <td>Saguache</td>\n",
       "      <td>Saguache</td>\n",
       "      <td>CO</td>\n",
       "      <td>81149.0</td>\n",
       "    </tr>\n",
       "    <tr>\n",
       "      <th>1</th>\n",
       "      <td>W-2</td>\n",
       "      <td>Snow</td>\n",
       "      <td>Light</td>\n",
       "      <td>2016-01-07 04:14:00</td>\n",
       "      <td>2016-01-07 04:54:00</td>\n",
       "      <td>US/Mountain</td>\n",
       "      <td>K04V</td>\n",
       "      <td>38.0972</td>\n",
       "      <td>-106.1689</td>\n",
       "      <td>Saguache</td>\n",
       "      <td>Saguache</td>\n",
       "      <td>CO</td>\n",
       "      <td>81149.0</td>\n",
       "    </tr>\n",
       "    <tr>\n",
       "      <th>2</th>\n",
       "      <td>W-3</td>\n",
       "      <td>Snow</td>\n",
       "      <td>Light</td>\n",
       "      <td>2016-01-07 05:54:00</td>\n",
       "      <td>2016-01-07 15:34:00</td>\n",
       "      <td>US/Mountain</td>\n",
       "      <td>K04V</td>\n",
       "      <td>38.0972</td>\n",
       "      <td>-106.1689</td>\n",
       "      <td>Saguache</td>\n",
       "      <td>Saguache</td>\n",
       "      <td>CO</td>\n",
       "      <td>81149.0</td>\n",
       "    </tr>\n",
       "    <tr>\n",
       "      <th>3</th>\n",
       "      <td>W-4</td>\n",
       "      <td>Snow</td>\n",
       "      <td>Light</td>\n",
       "      <td>2016-01-08 05:34:00</td>\n",
       "      <td>2016-01-08 05:54:00</td>\n",
       "      <td>US/Mountain</td>\n",
       "      <td>K04V</td>\n",
       "      <td>38.0972</td>\n",
       "      <td>-106.1689</td>\n",
       "      <td>Saguache</td>\n",
       "      <td>Saguache</td>\n",
       "      <td>CO</td>\n",
       "      <td>81149.0</td>\n",
       "    </tr>\n",
       "    <tr>\n",
       "      <th>4</th>\n",
       "      <td>W-5</td>\n",
       "      <td>Snow</td>\n",
       "      <td>Light</td>\n",
       "      <td>2016-01-08 13:54:00</td>\n",
       "      <td>2016-01-08 15:54:00</td>\n",
       "      <td>US/Mountain</td>\n",
       "      <td>K04V</td>\n",
       "      <td>38.0972</td>\n",
       "      <td>-106.1689</td>\n",
       "      <td>Saguache</td>\n",
       "      <td>Saguache</td>\n",
       "      <td>CO</td>\n",
       "      <td>81149.0</td>\n",
       "    </tr>\n",
       "  </tbody>\n",
       "</table>\n",
       "</div>"
      ],
      "text/plain": [
       "  EventId  Type Severity       StartTime(UTC)         EndTime(UTC)  \\\n",
       "0     W-1  Snow    Light  2016-01-06 23:14:00  2016-01-07 00:34:00   \n",
       "1     W-2  Snow    Light  2016-01-07 04:14:00  2016-01-07 04:54:00   \n",
       "2     W-3  Snow    Light  2016-01-07 05:54:00  2016-01-07 15:34:00   \n",
       "3     W-4  Snow    Light  2016-01-08 05:34:00  2016-01-08 05:54:00   \n",
       "4     W-5  Snow    Light  2016-01-08 13:54:00  2016-01-08 15:54:00   \n",
       "\n",
       "      TimeZone AirportCode  LocationLat  LocationLng      City    County  \\\n",
       "0  US/Mountain        K04V      38.0972    -106.1689  Saguache  Saguache   \n",
       "1  US/Mountain        K04V      38.0972    -106.1689  Saguache  Saguache   \n",
       "2  US/Mountain        K04V      38.0972    -106.1689  Saguache  Saguache   \n",
       "3  US/Mountain        K04V      38.0972    -106.1689  Saguache  Saguache   \n",
       "4  US/Mountain        K04V      38.0972    -106.1689  Saguache  Saguache   \n",
       "\n",
       "  State  ZipCode  \n",
       "0    CO  81149.0  \n",
       "1    CO  81149.0  \n",
       "2    CO  81149.0  \n",
       "3    CO  81149.0  \n",
       "4    CO  81149.0  "
      ]
     },
     "execution_count": 319,
     "metadata": {},
     "output_type": "execute_result"
    }
   ],
   "source": [
    "weather.head()"
   ]
  },
  {
   "cell_type": "code",
   "execution_count": 320,
   "metadata": {
    "ExecuteTime": {
     "end_time": "2020-12-02T04:35:40.151566Z",
     "start_time": "2020-12-02T04:35:36.047543Z"
    }
   },
   "outputs": [],
   "source": [
    "weather.rename(columns = {'StartTime(UTC)': 'datetime', 'LocationLat': 'lat', 'LocationLng': 'lon'}, inplace = True)\n",
    "weather.loc[:,'AirportCode'] = weather['AirportCode'].apply(lambda x: x[1:])\n",
    "weather.loc[:,'datetime'] = pd.to_datetime(weather['datetime']).dt.floor('d')\n",
    "delays.loc[:, 'datetime'] = pd.to_datetime(delays['datetime'])"
   ]
  },
  {
   "cell_type": "code",
   "execution_count": 321,
   "metadata": {
    "ExecuteTime": {
     "end_time": "2020-12-02T04:35:40.178494Z",
     "start_time": "2020-12-02T04:35:40.152564Z"
    }
   },
   "outputs": [],
   "source": [
    "minT = weather['datetime'].min()\n",
    "maxT = weather['datetime'].max()\n",
    "\n",
    "subset = delays[(delays['datetime'] >= minT) & (delays['datetime'] <= maxT)]"
   ]
  },
  {
   "cell_type": "code",
   "execution_count": 322,
   "metadata": {
    "ExecuteTime": {
     "end_time": "2020-12-02T04:35:45.908198Z",
     "start_time": "2020-12-02T04:35:40.179492Z"
    }
   },
   "outputs": [],
   "source": [
    "cols = ['avg_dep', 'airport', 'num_obs', 'datetime', 'Type', 'Severity']\n",
    "df = subset.merge(weather, how = 'outer', left_on = ['airport', 'datetime'], right_on = ['AirportCode', 'datetime']).loc[:, cols]\n",
    "df.loc[:,['Type','Severity']] = df[['Type','Severity']].fillna('Clear')\n",
    "df.dropna(inplace = True)"
   ]
  },
  {
   "cell_type": "code",
   "execution_count": 323,
   "metadata": {
    "ExecuteTime": {
     "end_time": "2020-12-02T04:35:45.969128Z",
     "start_time": "2020-12-02T04:35:45.909168Z"
    },
    "scrolled": true
   },
   "outputs": [],
   "source": [
    "df['weather'] = df['Type'] + ' ' + df['Severity']\n",
    "df.drop(columns = ['Type', 'Severity'], inplace = True)\n",
    "df.loc[:,'weather'] = df['weather'].replace('Clear Clear', 'Clear')"
   ]
  },
  {
   "cell_type": "code",
   "execution_count": 324,
   "metadata": {
    "ExecuteTime": {
     "end_time": "2020-12-02T04:35:50.949777Z",
     "start_time": "2020-12-02T04:35:50.941799Z"
    }
   },
   "outputs": [
    {
     "data": {
      "text/html": [
       "<div>\n",
       "<style scoped>\n",
       "    .dataframe tbody tr th:only-of-type {\n",
       "        vertical-align: middle;\n",
       "    }\n",
       "\n",
       "    .dataframe tbody tr th {\n",
       "        vertical-align: top;\n",
       "    }\n",
       "\n",
       "    .dataframe thead th {\n",
       "        text-align: right;\n",
       "    }\n",
       "</style>\n",
       "<table border=\"1\" class=\"dataframe\">\n",
       "  <thead>\n",
       "    <tr style=\"text-align: right;\">\n",
       "      <th></th>\n",
       "      <th>avg_dep</th>\n",
       "      <th>airport</th>\n",
       "      <th>num_obs</th>\n",
       "      <th>datetime</th>\n",
       "      <th>weather</th>\n",
       "    </tr>\n",
       "  </thead>\n",
       "  <tbody>\n",
       "    <tr>\n",
       "      <th>0</th>\n",
       "      <td>7.500000</td>\n",
       "      <td>ABE</td>\n",
       "      <td>2.0</td>\n",
       "      <td>2018-01-01</td>\n",
       "      <td>Precipitation UNK</td>\n",
       "    </tr>\n",
       "    <tr>\n",
       "      <th>1</th>\n",
       "      <td>7.500000</td>\n",
       "      <td>ABE</td>\n",
       "      <td>2.0</td>\n",
       "      <td>2018-01-01</td>\n",
       "      <td>Precipitation UNK</td>\n",
       "    </tr>\n",
       "    <tr>\n",
       "      <th>2</th>\n",
       "      <td>17.500000</td>\n",
       "      <td>ABE</td>\n",
       "      <td>2.0</td>\n",
       "      <td>2018-01-02</td>\n",
       "      <td>Clear</td>\n",
       "    </tr>\n",
       "    <tr>\n",
       "      <th>3</th>\n",
       "      <td>6.333333</td>\n",
       "      <td>ABE</td>\n",
       "      <td>3.0</td>\n",
       "      <td>2018-01-03</td>\n",
       "      <td>Cold Severe</td>\n",
       "    </tr>\n",
       "    <tr>\n",
       "      <th>4</th>\n",
       "      <td>109.500000</td>\n",
       "      <td>ABE</td>\n",
       "      <td>2.0</td>\n",
       "      <td>2018-01-04</td>\n",
       "      <td>Snow Light</td>\n",
       "    </tr>\n",
       "  </tbody>\n",
       "</table>\n",
       "</div>"
      ],
      "text/plain": [
       "      avg_dep airport  num_obs   datetime            weather\n",
       "0    7.500000     ABE      2.0 2018-01-01  Precipitation UNK\n",
       "1    7.500000     ABE      2.0 2018-01-01  Precipitation UNK\n",
       "2   17.500000     ABE      2.0 2018-01-02              Clear\n",
       "3    6.333333     ABE      3.0 2018-01-03        Cold Severe\n",
       "4  109.500000     ABE      2.0 2018-01-04         Snow Light"
      ]
     },
     "execution_count": 324,
     "metadata": {},
     "output_type": "execute_result"
    }
   ],
   "source": [
    "df.head()"
   ]
  },
  {
   "cell_type": "code",
   "execution_count": 325,
   "metadata": {
    "ExecuteTime": {
     "end_time": "2020-12-02T04:37:00.593962Z",
     "start_time": "2020-12-02T04:35:54.120769Z"
    }
   },
   "outputs": [],
   "source": [
    "# There are multiple weather reports for any given day, I take the category that occurs the most \n",
    "# in order to reflect the fact that I am taking the mean departure delay per day\n",
    "group = df.groupby(['airport', 'datetime', 'weather'])['avg_dep'].count()\n",
    "\n",
    "rows = []\n",
    "for i in group.index:\n",
    "    x = group.loc[i[:2]].sort_values(ascending = False).index[0]\n",
    "    rows.append(list(i) + [x])\n",
    "    \n",
    "new = pd.DataFrame(rows, columns = ['airport', 'datetime', 'weather', 'avg_weather']).drop('weather', axis = 1)"
   ]
  },
  {
   "cell_type": "code",
   "execution_count": 326,
   "metadata": {
    "ExecuteTime": {
     "end_time": "2020-12-02T04:37:02.383423Z",
     "start_time": "2020-12-02T04:37:02.233796Z"
    }
   },
   "outputs": [],
   "source": [
    "clean_df = df.merge(new, on = ['airport', 'datetime']).drop('weather', axis = 1).drop_duplicates()"
   ]
  },
  {
   "cell_type": "code",
   "execution_count": 327,
   "metadata": {
    "ExecuteTime": {
     "end_time": "2020-12-02T04:37:03.500258Z",
     "start_time": "2020-12-02T04:37:02.929785Z"
    },
    "scrolled": true
   },
   "outputs": [],
   "source": [
    "clean_df.to_csv('mixed_delays.csv', index = False)"
   ]
  }
 ],
 "metadata": {
  "kernelspec": {
   "display_name": "Python 3",
   "language": "python",
   "name": "python3"
  },
  "language_info": {
   "codemirror_mode": {
    "name": "ipython",
    "version": 3
   },
   "file_extension": ".py",
   "mimetype": "text/x-python",
   "name": "python",
   "nbconvert_exporter": "python",
   "pygments_lexer": "ipython3",
   "version": "3.7.3"
  }
 },
 "nbformat": 4,
 "nbformat_minor": 2
}
